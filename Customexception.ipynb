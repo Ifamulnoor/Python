{
  "nbformat": 4,
  "nbformat_minor": 0,
  "metadata": {
    "colab": {
      "provenance": []
    },
    "kernelspec": {
      "name": "python3",
      "display_name": "Python 3"
    },
    "language_info": {
      "name": "python"
    }
  },
  "cells": [
    {
      "cell_type": "markdown",
      "source": [
        "#Custom Exception Handling\n",
        "You can define your own exception classes in Python to create custom exceptions. Custom exceptions might be handy when you want to raise certain issues in your code that are not handled by the built-in exception classes.\n",
        "\n",
        "According to the official Python document, the various severity levels are shown below along with a brief description:\n",
        "\n",
        "1. DEBUG - Detailed information, typically of interest only when diagnosing problems.\n",
        "\n",
        "2. INFO - Confirmation that things are working as expected.\n",
        "\n",
        "3. WARNING - .An indication that something unexpected happened, or indicative of some problem in the near future (e.g. ‘disk space low’). The software is still working as expected.\n",
        "\n",
        "4. ERROR - Due to a more serious problem, the software has not been able to perform some function.\n",
        "\n",
        "5. CRITICAL - A serious error, indicating that the program itself may be unable to continue running."
      ],
      "metadata": {
        "id": "iyWa8zAgDBXq"
      }
    },
    {
      "cell_type": "code",
      "execution_count": null,
      "metadata": {
        "colab": {
          "base_uri": "https://localhost:8080/"
        },
        "id": "aVe1-mbrZzmO",
        "outputId": "0915c705-2bda-4a0a-bb36-4c5b52f4fb22"
      },
      "outputs": [
        {
          "output_type": "stream",
          "name": "stdout",
          "text": [
            "Insufficient funds. Cannot withdraw $700. Balance available: $500\n"
          ]
        }
      ],
      "source": [
        "#Analogy: ATM Withdrawal\n",
        "class ATMWithdrawalException(Exception):\n",
        "    def __init__(self, balance, amount):\n",
        "        self.balance = balance\n",
        "        self.amount = amount\n",
        "        super().__init__(f\"Insufficient funds. Cannot withdraw ${amount}. Balance available: ${balance}\")\n",
        "\n",
        "def withdraw_money(balance, amount):\n",
        "    try:\n",
        "        if amount > balance:\n",
        "            raise ATMWithdrawalException(balance, amount)\n",
        "        else:\n",
        "            print(f\"Withdrawal successful! Remaining balance: ${balance - amount}\")\n",
        "    except ATMWithdrawalException as e:\n",
        "        print(e)\n",
        "\n",
        "# Example usage\n",
        "balance = 500\n",
        "withdraw_amount = 700\n",
        "withdraw_money(balance, withdraw_amount)\n"
      ]
    },
    {
      "cell_type": "code",
      "source": [
        "#Analogy: StudentGradeException\n",
        "class StudentGradeException(Exception):\n",
        "    def __init__(self, grade):\n",
        "        self.grade = grade\n",
        "        super().__init__(f\"Invalid grade. Grade '{grade}' is out of range (0-100)\")\n",
        "\n",
        "def evaluate_grade(grade):\n",
        "    try:\n",
        "        if not 0 <= grade <= 100:\n",
        "            raise StudentGradeException(grade)\n",
        "        else:\n",
        "            print(\"Grade evaluation successful!\")\n",
        "    except StudentGradeException as e:\n",
        "        print(e)\n",
        "\n",
        "# Example usage\n",
        "student_grade = 120\n",
        "evaluate_grade(student_grade)"
      ],
      "metadata": {
        "colab": {
          "base_uri": "https://localhost:8080/"
        },
        "id": "rXuOJ9HxZ6gL",
        "outputId": "b54d5f11-b836-4188-8d1d-15896a6d396f"
      },
      "execution_count": null,
      "outputs": [
        {
          "output_type": "stream",
          "name": "stdout",
          "text": [
            "Invalid grade. Grade '120' is out of range (0-100)\n"
          ]
        }
      ]
    },
    {
      "cell_type": "code",
      "source": [
        "#Analogy: EmailSendingException\n",
        "class EmailSendingException(Exception):\n",
        "    def __init__(self, email, message):\n",
        "        self.email = email\n",
        "        self.message = message\n",
        "        super().__init__(f\"Failed to send email to '{email}': {message}\")\n",
        "\n",
        "def send_email(email, message):\n",
        "    try:\n",
        "        # Simulating a failed email sending scenario\n",
        "        raise EmailSendingException(email, message)\n",
        "    except EmailSendingException as e:\n",
        "        print(e)\n",
        "\n",
        "# Example usage\n",
        "recipient_email = \"example@email.com\"\n",
        "email_message = \"This is a test message.\"\n",
        "send_email(recipient_email, email_message)\n"
      ],
      "metadata": {
        "colab": {
          "base_uri": "https://localhost:8080/"
        },
        "id": "YGf98puHa9Qr",
        "outputId": "0ce1ec32-56bf-43d6-bf8d-6daa3f252204"
      },
      "execution_count": null,
      "outputs": [
        {
          "output_type": "stream",
          "name": "stdout",
          "text": [
            "Failed to send email to 'example@email.com': This is a test message.\n"
          ]
        }
      ]
    },
    {
      "cell_type": "code",
      "source": [
        "#Analogy: PaymentProcessingException\n",
        "class PaymentProcessingException(Exception):\n",
        "    def __init__(self, payment_method, amount):\n",
        "        self.payment_method = payment_method\n",
        "        self.amount = amount\n",
        "        super().__init__(f\"Payment processing failed using '{payment_method}' for amount ${amount}\")\n",
        "\n",
        "def process_payment(payment_method, amount):\n",
        "    try:\n",
        "        # Simulating a failed payment scenario\n",
        "        raise PaymentProcessingException(payment_method, amount)\n",
        "    except PaymentProcessingException as e:\n",
        "        print(e)\n",
        "\n",
        "# Example usage\n",
        "payment_type = \"Credit Card\"\n",
        "payment_amount = 1000\n",
        "process_payment(payment_type, payment_amount)\n"
      ],
      "metadata": {
        "colab": {
          "base_uri": "https://localhost:8080/"
        },
        "id": "RI_ke5lRbNUJ",
        "outputId": "c23e84d7-3b09-41b7-e067-e1fb358586ba"
      },
      "execution_count": null,
      "outputs": [
        {
          "output_type": "stream",
          "name": "stdout",
          "text": [
            "Payment processing failed using 'Credit Card' for amount $1000\n"
          ]
        }
      ]
    },
    {
      "cell_type": "code",
      "source": [
        "#Analogy: NetworkConnectionException\n",
        "class NetworkConnectionException(Exception):\n",
        "    def __init__(self, url):\n",
        "        self.url = url\n",
        "        super().__init__(f\"Failed to establish a connection to '{url}'\")\n",
        "\n",
        "def establish_connection(url):\n",
        "    try:\n",
        "        # Simulating a scenario where the network connection fails\n",
        "        raise NetworkConnectionException(url)\n",
        "    except NetworkConnectionException as e:\n",
        "        print(e)\n",
        "\n",
        "# Example usage\n",
        "website_url = \"https://pwskills.com\"\n",
        "establish_connection(website_url)\n"
      ],
      "metadata": {
        "colab": {
          "base_uri": "https://localhost:8080/"
        },
        "id": "0f28t00CbjYP",
        "outputId": "9d272ca7-cb4e-4ee0-b22a-3c6193c40500"
      },
      "execution_count": null,
      "outputs": [
        {
          "output_type": "stream",
          "name": "stdout",
          "text": [
            "Failed to establish a connection to 'https://pwskills.com'\n"
          ]
        }
      ]
    },
    {
      "cell_type": "code",
      "source": [],
      "metadata": {
        "id": "q7nV2m59erBm"
      },
      "execution_count": null,
      "outputs": []
    }
  ]
}