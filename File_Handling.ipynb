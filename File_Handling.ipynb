{
  "nbformat": 4,
  "nbformat_minor": 0,
  "metadata": {
    "colab": {
      "provenance": []
    },
    "kernelspec": {
      "name": "python3",
      "display_name": "Python 3"
    },
    "language_info": {
      "name": "python"
    }
  },
  "cells": [
    {
      "cell_type": "markdown",
      "source": [
        "# Introduction to File handling\n",
        "\n",
        "### What is File Handling?\n",
        "\n",
        "File handling is the process of working with files in a computer's storage system. In programming, it involves operations like reading from and writing to files. Files can store data, and file handling allows you to manipulate, organize, and retrieve this data as needed.\n",
        "\n",
        "### Why Do We Need File Handling?\n",
        "\n",
        "File handling is crucial in programming because it enables applications to interact with data stored persistently on a disk. It allows programs to save information for later use, retrieve stored data, and modify existing content. Common use cases include reading configuration files, storing user data, and handling large datasets."
      ],
      "metadata": {
        "id": "EyfDoMWWiMHD"
      }
    },
    {
      "cell_type": "code",
      "source": [
        "# syntax\n",
        "# with open(file , mode ) as file:\n",
        "#  file.mode()"
      ],
      "metadata": {
        "id": "MjdUatPviR9n"
      },
      "execution_count": null,
      "outputs": []
    },
    {
      "cell_type": "code",
      "source": [
        "with open(\"testing.txt\" , \"w\") as file:\n",
        "  file.write(\"testing a text file \")\n"
      ],
      "metadata": {
        "id": "I8avqeYXnijI"
      },
      "execution_count": null,
      "outputs": []
    },
    {
      "cell_type": "code",
      "source": [
        "with open(\"testing.txt\", \"r\") as file:\n",
        "  content = file.read()\n",
        "  print(content)"
      ],
      "metadata": {
        "colab": {
          "base_uri": "https://localhost:8080/"
        },
        "id": "0-ZkyYdyn4o8",
        "outputId": "05d49b07-4560-461d-c37a-a0e355d2d9e4"
      },
      "execution_count": null,
      "outputs": [
        {
          "output_type": "stream",
          "name": "stdout",
          "text": [
            "testing a text file \n"
          ]
        }
      ]
    },
    {
      "cell_type": "code",
      "source": [
        "import csv\n",
        "\n",
        "data = [\n",
        "    [\"name\", \"age\", \"city\"],\n",
        "    [\"sahil\", 28, \"noida\"],\n",
        "    [\"amit\", 29, \"dehradun\"]\n",
        "]\n",
        "\n",
        "\n",
        "with open('csv_file.csv' , \"w\", newline= \"\") as file:\n",
        "  csv_writer = csv.writer(file)\n",
        "  csv_writer.writerows(data)\n"
      ],
      "metadata": {
        "id": "H99V0wZloO0C"
      },
      "execution_count": null,
      "outputs": []
    },
    {
      "cell_type": "markdown",
      "source": [
        "# Reading and Writing Operations"
      ],
      "metadata": {
        "id": "Tb0K-pXJrL4_"
      }
    },
    {
      "cell_type": "code",
      "source": [
        "# writing the text file\n",
        "\n",
        "def greeting(name):\n",
        "  return f\"hello , how are you {name} ?\"\n",
        "\n",
        "\n",
        "data = greeting(\"sahil\")\n",
        "\n",
        "with open(\"data.txt\" , \"w\") as file:\n",
        "  file.write(data)\n"
      ],
      "metadata": {
        "id": "UbBvRnjxr1zW"
      },
      "execution_count": null,
      "outputs": []
    },
    {
      "cell_type": "code",
      "source": [
        "with open(\"data.txt\", \"r\") as file:\n",
        "  print(file.read())"
      ],
      "metadata": {
        "colab": {
          "base_uri": "https://localhost:8080/"
        },
        "id": "jeAqYpBvttRx",
        "outputId": "bc63056b-3d77-43fe-c4d5-5b5fca05154d"
      },
      "execution_count": null,
      "outputs": [
        {
          "output_type": "stream",
          "name": "stdout",
          "text": [
            "hello , how are you sahil ?\n"
          ]
        }
      ]
    },
    {
      "cell_type": "code",
      "source": [
        "# writing multiple lines of text\n",
        "data = [\"line1 \\n\", \"line2 \\n\" , \"line3 \\n\"]\n",
        "\n",
        "with open('text_lines.txt' , 'w') as file:\n",
        "  file.writelines(data)"
      ],
      "metadata": {
        "id": "EIJmNvLLrZDX"
      },
      "execution_count": null,
      "outputs": []
    },
    {
      "cell_type": "code",
      "source": [
        "with open('text_lines.txt' , 'r') as file:\n",
        "  for line in file.readlines():\n",
        "    print(line)"
      ],
      "metadata": {
        "colab": {
          "base_uri": "https://localhost:8080/"
        },
        "id": "4YB4UnOSuZ-U",
        "outputId": "3d4f22db-4340-4747-93e8-eb617ea737bd"
      },
      "execution_count": null,
      "outputs": [
        {
          "output_type": "stream",
          "name": "stdout",
          "text": [
            "line1 \n",
            "\n",
            "line2 \n",
            "\n",
            "line3 \n",
            "\n"
          ]
        }
      ]
    },
    {
      "cell_type": "code",
      "source": [
        "# appending data in file\n",
        "\n",
        "new_data = \"\\n this is the additional line data\"\n",
        "\n",
        "with open('text_lines.txt' , \"a\") as file:\n",
        "  file.write(new_data)"
      ],
      "metadata": {
        "id": "tV6hkJVevHi4"
      },
      "execution_count": null,
      "outputs": []
    },
    {
      "cell_type": "code",
      "source": [
        "with open('text_lines.txt' , 'r') as file:\n",
        "  for line in file.readlines():\n",
        "    print(line)"
      ],
      "metadata": {
        "colab": {
          "base_uri": "https://localhost:8080/"
        },
        "id": "fSesLKWmvcxN",
        "outputId": "c0d4640f-4cf5-4a32-8a52-4ebd77f7c0de"
      },
      "execution_count": null,
      "outputs": [
        {
          "output_type": "stream",
          "name": "stdout",
          "text": [
            "[\"line1 \n",
            "\n",
            "\", \"line2 \n",
            "\n",
            "\" , \"line3 \n",
            "\n",
            "\"]\n",
            "\n",
            " this is the additional line data\n"
          ]
        }
      ]
    },
    {
      "cell_type": "code",
      "source": [
        "with open('data.txt' , 'r') as file:\n",
        "  print(file.read(10))"
      ],
      "metadata": {
        "colab": {
          "base_uri": "https://localhost:8080/"
        },
        "id": "3c4yCKetvn0A",
        "outputId": "106cebf9-29dc-4de6-c736-053e07f68a4b"
      },
      "execution_count": null,
      "outputs": [
        {
          "output_type": "stream",
          "name": "stdout",
          "text": [
            "hello , ho\n"
          ]
        }
      ]
    },
    {
      "cell_type": "code",
      "source": [
        "with open('data.txt' , 'r') as file:\n",
        "  print(file.read().split())"
      ],
      "metadata": {
        "colab": {
          "base_uri": "https://localhost:8080/"
        },
        "id": "qVFbuCGnv8HB",
        "outputId": "dc927b10-1765-42b1-ddf4-a3baca79c51c"
      },
      "execution_count": null,
      "outputs": [
        {
          "output_type": "stream",
          "name": "stdout",
          "text": [
            "['hello', ',', 'how', 'are', 'you', 'sahil', '?']\n"
          ]
        }
      ]
    },
    {
      "cell_type": "code",
      "source": [
        "with open('csv_file.csv' , 'r') as file:\n",
        "  csv_reader = csv.reader(file)\n",
        "  for row in csv_reader:\n",
        "    print(row)"
      ],
      "metadata": {
        "colab": {
          "base_uri": "https://localhost:8080/"
        },
        "id": "bLQvNcTLwUSp",
        "outputId": "3d622627-3f82-4f97-a809-2c88a9043630"
      },
      "execution_count": null,
      "outputs": [
        {
          "output_type": "stream",
          "name": "stdout",
          "text": [
            "['name', 'age', 'city']\n",
            "['sahil', '28', 'noida']\n",
            "['amit', '29', 'dehradun']\n"
          ]
        }
      ]
    },
    {
      "cell_type": "markdown",
      "source": [
        "# Buffered Read and Write\n",
        "\n",
        "Buffering in file handling is a technique where data is stored in a temporary buffer before being read from or written to a file. This helps improve the efficiency of file operations by reducing the number of physical disk access operations. In Python, buffering is typically handled automatically by the underlying I/O libraries, but you can also control it explicitly."
      ],
      "metadata": {
        "id": "B2wg_2ouyNN8"
      }
    },
    {
      "cell_type": "code",
      "source": [
        "with open(\"testing.txt\" , 'w', buffering = 2048) as file:\n",
        "  file.write(\"this is some randome data\")\n",
        "  file.flush()"
      ],
      "metadata": {
        "id": "xwgZlUQfyQVU"
      },
      "execution_count": null,
      "outputs": []
    },
    {
      "cell_type": "code",
      "source": [
        "data = [\"line1 \\n\", 'line2 \\n']\n",
        "\n",
        "with open(\"lines.txt\" , 'w', buffering  =1) as file:\n",
        "  file.writelines(data)"
      ],
      "metadata": {
        "id": "_kMZXhPt0APw"
      },
      "execution_count": null,
      "outputs": []
    },
    {
      "cell_type": "code",
      "source": [
        "with open('testing.txt' , 'r', buffering = 1024) as file:\n",
        "  print(file.read())"
      ],
      "metadata": {
        "colab": {
          "base_uri": "https://localhost:8080/"
        },
        "id": "VudWW1TJ0XXh",
        "outputId": "2fbf5c85-10c5-4801-da0b-3225e8be79bf"
      },
      "execution_count": null,
      "outputs": [
        {
          "output_type": "stream",
          "name": "stdout",
          "text": [
            "this is some randome data\n"
          ]
        }
      ]
    },
    {
      "cell_type": "markdown",
      "source": [
        "# other operation in file handling"
      ],
      "metadata": {
        "id": "hrovdjwV1Kfi"
      }
    },
    {
      "cell_type": "code",
      "source": [
        "with open('testing.txt' , 'w') as file:\n",
        "  file.write(\"testing sample\")\n",
        "  file.close()\n",
        "\n",
        "with open('testing.txt', 'r') as file:\n",
        "  content = file.read()\n",
        "  file.close()\n",
        "\n",
        "content"
      ],
      "metadata": {
        "id": "UAg-wvKa1Jji",
        "colab": {
          "base_uri": "https://localhost:8080/",
          "height": 35
        },
        "outputId": "04e929fc-bfe9-4395-ba55-d97d8b105b86"
      },
      "execution_count": null,
      "outputs": [
        {
          "output_type": "execute_result",
          "data": {
            "text/plain": [
              "'testing sample'"
            ],
            "application/vnd.google.colaboratory.intrinsic+json": {
              "type": "string"
            }
          },
          "metadata": {},
          "execution_count": 3
        }
      ]
    },
    {
      "cell_type": "code",
      "source": [
        "with open('testing.txt' , 'r') as file:\n",
        "  content= file.read(10)\n",
        "  position = file.tell()\n",
        "  print(f\"data = {content}, position = {position}\")"
      ],
      "metadata": {
        "colab": {
          "base_uri": "https://localhost:8080/"
        },
        "id": "1fLvOA_ZhEp0",
        "outputId": "a5758ec5-8abc-4cc2-a13a-cabe8e76f8f5"
      },
      "execution_count": null,
      "outputs": [
        {
          "output_type": "stream",
          "name": "stdout",
          "text": [
            "data = testing sa, position = 10\n"
          ]
        }
      ]
    },
    {
      "cell_type": "code",
      "source": [
        "with open('testing.txt' , 'r') as file:\n",
        "  file.seek(3)\n",
        "  content= file.read(10)\n",
        "\n",
        "content"
      ],
      "metadata": {
        "colab": {
          "base_uri": "https://localhost:8080/",
          "height": 35
        },
        "id": "5nptnSrfiKXd",
        "outputId": "f506822b-a54a-4e54-eca1-fc9f9b61efb3"
      },
      "execution_count": null,
      "outputs": [
        {
          "output_type": "execute_result",
          "data": {
            "text/plain": [
              "'ting sampl'"
            ],
            "application/vnd.google.colaboratory.intrinsic+json": {
              "type": "string"
            }
          },
          "metadata": {},
          "execution_count": 6
        }
      ]
    },
    {
      "cell_type": "code",
      "source": [
        "file = open('testing.txt' , \"r+\")\n",
        "file.truncate(5)\n",
        "content = file.read()\n",
        "content"
      ],
      "metadata": {
        "colab": {
          "base_uri": "https://localhost:8080/",
          "height": 35
        },
        "id": "mVPkp8osiZJR",
        "outputId": "038f9480-158e-48c4-82b0-9b03b8c96874"
      },
      "execution_count": null,
      "outputs": [
        {
          "output_type": "execute_result",
          "data": {
            "text/plain": [
              "'testi'"
            ],
            "application/vnd.google.colaboratory.intrinsic+json": {
              "type": "string"
            }
          },
          "metadata": {},
          "execution_count": 7
        }
      ]
    },
    {
      "cell_type": "code",
      "source": [
        "file = open('testing.txt' ,\"r\")\n",
        "print(\"is file readable\" , file.readable())\n",
        "\n",
        "print(\"is file readable\" , file.writable())\n",
        "\n",
        "print(\"is file readable\" , file.seekable())\n",
        "\n",
        "desc = file.fileno()\n",
        "print(\"is file readable\" , desc)\n",
        "\n",
        "print(\"is file readable\" , file.closed)\n",
        "file.close()\n",
        "print(\"is file readable\" , file.closed)"
      ],
      "metadata": {
        "colab": {
          "base_uri": "https://localhost:8080/"
        },
        "id": "tK5MVFYFi2PJ",
        "outputId": "3f372429-af65-4bc5-9fbc-1587838be498"
      },
      "execution_count": null,
      "outputs": [
        {
          "output_type": "stream",
          "name": "stdout",
          "text": [
            "is file readable True\n",
            "is file readable False\n",
            "is file readable True\n",
            "is file readable 42\n",
            "is file readable False\n",
            "is file readable True\n"
          ]
        }
      ]
    },
    {
      "cell_type": "code",
      "source": [
        "with open(\"testing2.txt\" , 'w') as file:\n",
        "  file.write(\"testing 2 data\")\n",
        "\n",
        "with open(\"testing.txt\" , 'r') as source , open ('testing3.txt' , 'w') as destination:\n",
        "  destination.write(source.read())"
      ],
      "metadata": {
        "id": "TiU4tJcrj5Az"
      },
      "execution_count": null,
      "outputs": []
    },
    {
      "cell_type": "code",
      "source": [
        "with open('testing3.txt', 'r') as file:\n",
        "  content = file.read()\n",
        "  print(content)"
      ],
      "metadata": {
        "colab": {
          "base_uri": "https://localhost:8080/"
        },
        "id": "Xb_v8UsGkf-Q",
        "outputId": "0442f177-469b-4a2f-dc64-5cb3447632ef"
      },
      "execution_count": null,
      "outputs": [
        {
          "output_type": "stream",
          "name": "stdout",
          "text": [
            "testi\n"
          ]
        }
      ]
    },
    {
      "cell_type": "code",
      "source": [
        "import os\n",
        "\n",
        "os.remove('testing.txt')"
      ],
      "metadata": {
        "id": "nzp9PFibks9J"
      },
      "execution_count": null,
      "outputs": []
    },
    {
      "cell_type": "code",
      "source": [
        "os.path.exists('testing2.txt')"
      ],
      "metadata": {
        "colab": {
          "base_uri": "https://localhost:8080/"
        },
        "id": "tGmGfpqWk-kn",
        "outputId": "3d00d84f-b6d5-4258-f4f8-5f8c1bdce489"
      },
      "execution_count": null,
      "outputs": [
        {
          "output_type": "execute_result",
          "data": {
            "text/plain": [
              "True"
            ]
          },
          "metadata": {},
          "execution_count": 18
        }
      ]
    },
    {
      "cell_type": "code",
      "source": [
        "file = os.stat('testing2.txt')"
      ],
      "metadata": {
        "id": "N3jKAG5klH50"
      },
      "execution_count": null,
      "outputs": []
    },
    {
      "cell_type": "code",
      "source": [
        "file.st_size"
      ],
      "metadata": {
        "colab": {
          "base_uri": "https://localhost:8080/"
        },
        "id": "dQZdyjb9lR83",
        "outputId": "aa263142-cf3a-4be8-e7bb-3c47bc17fc8a"
      },
      "execution_count": null,
      "outputs": [
        {
          "output_type": "execute_result",
          "data": {
            "text/plain": [
              "14"
            ]
          },
          "metadata": {},
          "execution_count": 21
        }
      ]
    },
    {
      "cell_type": "code",
      "source": [
        "os.rename(\"testing2.txt\", \"testing4.txt\")"
      ],
      "metadata": {
        "id": "hZWTXjORlc3K"
      },
      "execution_count": null,
      "outputs": []
    },
    {
      "cell_type": "code",
      "source": [
        "os.makedirs('content')\n",
        "with open(os.path.join('content', 'testing2.txt'), 'w') as file:\n",
        "  file.write(\"data in new directory file\")"
      ],
      "metadata": {
        "id": "ZiAd9QCdlrMo"
      },
      "execution_count": null,
      "outputs": []
    },
    {
      "cell_type": "markdown",
      "source": [
        "# Logging and Debugging"
      ],
      "metadata": {
        "id": "goO5SzaLnSK1"
      }
    },
    {
      "cell_type": "markdown",
      "source": [
        "# Module and Import"
      ],
      "metadata": {
        "id": "y9S7ABS0skeX"
      }
    },
    {
      "cell_type": "code",
      "source": [
        "from google.colab import drive\n",
        "drive.mount('/content/drive')"
      ],
      "metadata": {
        "colab": {
          "base_uri": "https://localhost:8080/"
        },
        "id": "5mp0xPBNxHut",
        "outputId": "d50cf980-d90a-416d-97e8-7feafe88a9cd"
      },
      "execution_count": null,
      "outputs": [
        {
          "output_type": "stream",
          "name": "stdout",
          "text": [
            "Mounted at /content/drive\n"
          ]
        }
      ]
    },
    {
      "cell_type": "code",
      "source": [
        "from module import  Person"
      ],
      "metadata": {
        "id": "YLuOQMMJsnzp"
      },
      "execution_count": null,
      "outputs": []
    },
    {
      "cell_type": "code",
      "source": [
        "class Person:\n",
        "    def __init__(self, name, age):\n",
        "        self.name = name\n",
        "        self.age = age\n",
        "\n",
        "    def introduce(self):\n",
        "        print(\"Hi, I'm\", self.name, \"and I'm\", self.age, \"years old.\")"
      ],
      "metadata": {
        "id": "FU5cJ3eBwksE"
      },
      "execution_count": null,
      "outputs": []
    },
    {
      "cell_type": "code",
      "source": [
        "person = Person(\"name\" , 89)"
      ],
      "metadata": {
        "id": "qX66jTzrwmmr"
      },
      "execution_count": null,
      "outputs": []
    }
  ]
}