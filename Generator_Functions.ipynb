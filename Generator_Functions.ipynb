{
  "nbformat": 4,
  "nbformat_minor": 0,
  "metadata": {
    "colab": {
      "provenance": []
    },
    "kernelspec": {
      "name": "python3",
      "display_name": "Python 3"
    },
    "language_info": {
      "name": "python"
    }
  },
  "cells": [
    {
      "cell_type": "markdown",
      "source": [
        "# Generator Functions"
      ],
      "metadata": {
        "id": "rQKuQd9BQcPT"
      }
    },
    {
      "cell_type": "markdown",
      "source": [
        "Python provides a generator to create your own iterator function. A generator is a special type of function which does not return a single value, instead it returns an iterator object with a sequence of values. In a generator function, a yield statement is used rather than a return statement."
      ],
      "metadata": {
        "id": "Qfi1o_ygQhS6"
      }
    },
    {
      "cell_type": "markdown",
      "source": [
        "Generator function uses `yield` instead of `return` keyword. So, this will `return` the value against the `yield` keyword each time it is called."
      ],
      "metadata": {
        "id": "aS8LwpFkQkHK"
      }
    },
    {
      "cell_type": "code",
      "source": [
        "def mygenerator():\n",
        "    '''\n",
        "    Functions returns 10, 20, 30 one after the other\n",
        "    when called using next function\n",
        "    '''\n",
        "    print('First item')\n",
        "    yield 10\n",
        "\n",
        "    print('Second item')\n",
        "    yield 20\n",
        "\n",
        "    print('Last item')\n",
        "    yield 30"
      ],
      "metadata": {
        "id": "5IRjKrHplndM"
      },
      "execution_count": null,
      "outputs": []
    },
    {
      "cell_type": "code",
      "source": [
        "gen = mygenerator()"
      ],
      "metadata": {
        "id": "gCurSHmiQmtC"
      },
      "execution_count": null,
      "outputs": []
    },
    {
      "cell_type": "code",
      "source": [
        "# run this cell 3 times to see the generated objects.\n",
        "next(gen)"
      ],
      "metadata": {
        "colab": {
          "base_uri": "https://localhost:8080/"
        },
        "id": "o2uQ4_-UQo6J",
        "outputId": "7c572d62-ae51-4be6-8557-9fc3476b661d"
      },
      "execution_count": null,
      "outputs": [
        {
          "output_type": "stream",
          "name": "stdout",
          "text": [
            "First item\n"
          ]
        },
        {
          "output_type": "execute_result",
          "data": {
            "text/plain": [
              "10"
            ]
          },
          "metadata": {},
          "execution_count": 3
        }
      ]
    },
    {
      "cell_type": "markdown",
      "source": [
        "Using `return` statement in generator functions terminates the process after first `return` statement."
      ],
      "metadata": {
        "id": "Faqjv3ZCQtba"
      }
    },
    {
      "cell_type": "code",
      "source": [
        "def mygenerator():\n",
        "      print('First item')\n",
        "      yield 10\n",
        "\n",
        "      return\n",
        "\n",
        "      print('Second item')\n",
        "      yield 20\n",
        "\n",
        "      print('Last item')\n",
        "      yield 30"
      ],
      "metadata": {
        "id": "aUZlu8wXQqXI"
      },
      "execution_count": null,
      "outputs": []
    },
    {
      "cell_type": "code",
      "source": [
        "gen = mygenerator()"
      ],
      "metadata": {
        "id": "BDtAnQfBQ_dh"
      },
      "execution_count": null,
      "outputs": []
    },
    {
      "cell_type": "code",
      "source": [
        "next(gen)"
      ],
      "metadata": {
        "colab": {
          "base_uri": "https://localhost:8080/"
        },
        "id": "N5-a0snuRBYJ",
        "outputId": "5308a7dd-fd0c-47b8-c138-d896c25ff8e4"
      },
      "execution_count": null,
      "outputs": [
        {
          "output_type": "stream",
          "name": "stdout",
          "text": [
            "First item\n"
          ]
        },
        {
          "output_type": "execute_result",
          "data": {
            "text/plain": [
              "10"
            ]
          },
          "metadata": {},
          "execution_count": 7
        }
      ]
    },
    {
      "cell_type": "markdown",
      "source": [
        "Using for oop with generator function"
      ],
      "metadata": {
        "id": "W_goGyW-RGPj"
      }
    },
    {
      "cell_type": "code",
      "source": [
        "def get_sequence_upto(x):\n",
        "    for i in range(x):\n",
        "        yield i"
      ],
      "metadata": {
        "id": "aHdX9bNlRCdY"
      },
      "execution_count": null,
      "outputs": []
    },
    {
      "cell_type": "code",
      "source": [
        "seq = get_sequence_upto(5)"
      ],
      "metadata": {
        "id": "mAq0cuqiRItp"
      },
      "execution_count": null,
      "outputs": []
    },
    {
      "cell_type": "code",
      "source": [
        "# run this for 5 times and we can see the values changing\n",
        "next(seq)"
      ],
      "metadata": {
        "colab": {
          "base_uri": "https://localhost:8080/"
        },
        "id": "t5_JlGjRRMJa",
        "outputId": "7be5bc26-1b84-47e7-c0cf-17daeae2b26b"
      },
      "execution_count": null,
      "outputs": [
        {
          "output_type": "execute_result",
          "data": {
            "text/plain": [
              "0"
            ]
          },
          "metadata": {},
          "execution_count": 10
        }
      ]
    },
    {
      "cell_type": "code",
      "source": [
        "def square_of_sequence(x):\n",
        "      for i in range(x):\n",
        "          yield i*i"
      ],
      "metadata": {
        "id": "vVWjF7wuRMnw"
      },
      "execution_count": null,
      "outputs": []
    },
    {
      "cell_type": "code",
      "source": [
        "gen=square_of_sequence(5)\n",
        "while True:\n",
        "    try:\n",
        "        print (\"Received on next(): \", next(gen))\n",
        "    except StopIteration:\n",
        "        break"
      ],
      "metadata": {
        "colab": {
          "base_uri": "https://localhost:8080/"
        },
        "id": "EsF2wcXLRP0g",
        "outputId": "f2d7dc4e-f8b2-40f0-8938-4d3dcd95684b"
      },
      "execution_count": null,
      "outputs": [
        {
          "output_type": "stream",
          "name": "stdout",
          "text": [
            "Received on next():  0\n",
            "Received on next():  1\n",
            "Received on next():  4\n",
            "Received on next():  9\n",
            "Received on next():  16\n"
          ]
        }
      ]
    },
    {
      "cell_type": "markdown",
      "source": [
        "### Generators expression"
      ],
      "metadata": {
        "id": "2yc4j2LhRT7g"
      }
    },
    {
      "cell_type": "code",
      "source": [
        "# Initialize the list\n",
        "my_list = [1, 3, 6, 10]\n",
        "\n",
        "# square each term using list comprehension\n",
        "list_ = [x**2 for x in my_list]\n",
        "\n",
        "# same thing can be done using a generator expression\n",
        "# generator expressions are surrounded by parenthesis ()\n",
        "generator = (x**2 for x in my_list)\n",
        "\n",
        "print(list_)\n",
        "print(generator) # returns the functions location"
      ],
      "metadata": {
        "colab": {
          "base_uri": "https://localhost:8080/"
        },
        "id": "sY80r8e0RR5g",
        "outputId": "7d490790-c8bd-4d81-c4d4-be63de26fa14"
      },
      "execution_count": null,
      "outputs": [
        {
          "output_type": "stream",
          "name": "stdout",
          "text": [
            "[1, 9, 36, 100]\n",
            "<generator object <genexpr> at 0x7aeae16a9d20>\n"
          ]
        }
      ]
    },
    {
      "cell_type": "code",
      "source": [
        "# we can get the items in functions using this.\n",
        "# Initialize the list\n",
        "my_list = [1, 3, 6, 10]\n",
        "\n",
        "a = (x**2 for x in my_list)\n",
        "while True:\n",
        "    try:\n",
        "        print (next(a))\n",
        "    except StopIteration:\n",
        "        break"
      ],
      "metadata": {
        "colab": {
          "base_uri": "https://localhost:8080/"
        },
        "id": "-h1CMZryRYPh",
        "outputId": "b738ac02-0cba-421b-9629-9118fa323463"
      },
      "execution_count": null,
      "outputs": [
        {
          "output_type": "stream",
          "name": "stdout",
          "text": [
            "1\n",
            "9\n",
            "36\n",
            "100\n"
          ]
        }
      ]
    },
    {
      "cell_type": "markdown",
      "source": [
        "## Example1"
      ],
      "metadata": {
        "id": "dwGXcCVD0q6X"
      }
    },
    {
      "cell_type": "code",
      "source": [
        "def pw_skills_generator():\n",
        "    yield \"Python\"\n",
        "    yield \"Web Development\"\n",
        "    yield \"Problem Solving\"\n",
        "    yield \"Debugging\"\n",
        "\n",
        "# Usage\n",
        "for skill in pw_skills_generator():\n",
        "    print(f\"Learn: {skill}\")"
      ],
      "metadata": {
        "id": "CWfYd-z8RbiA",
        "colab": {
          "base_uri": "https://localhost:8080/"
        },
        "outputId": "5c410e69-aa34-4899-8d32-9c93ce60b58b"
      },
      "execution_count": null,
      "outputs": [
        {
          "output_type": "stream",
          "name": "stdout",
          "text": [
            "Learn: Python\n",
            "Learn: Web Development\n",
            "Learn: Problem Solving\n",
            "Learn: Debugging\n"
          ]
        }
      ]
    },
    {
      "cell_type": "markdown",
      "source": [
        "## Example2"
      ],
      "metadata": {
        "id": "ctPXmFsY3Ftf"
      }
    },
    {
      "cell_type": "code",
      "source": [
        "def courses_generator():\n",
        "    yield \"Python Basics\"\n",
        "    yield \"Web Development Fundamentals\"\n",
        "    yield \"Data Science Essentials\"\n",
        "\n",
        "# Usage\n",
        "for course in courses_generator():\n",
        "    print(f\"Enroll in: {course}\")\n"
      ],
      "metadata": {
        "colab": {
          "base_uri": "https://localhost:8080/"
        },
        "id": "zoNhOt1G0unA",
        "outputId": "747032de-28a7-4515-cbcb-04897b9dd2ac"
      },
      "execution_count": null,
      "outputs": [
        {
          "output_type": "stream",
          "name": "stdout",
          "text": [
            "Enroll in: Python Basics\n",
            "Enroll in: Web Development Fundamentals\n",
            "Enroll in: Data Science Essentials\n"
          ]
        }
      ]
    },
    {
      "cell_type": "markdown",
      "source": [
        "## Example3"
      ],
      "metadata": {
        "id": "_T-uq5f53KIf"
      }
    },
    {
      "cell_type": "code",
      "source": [
        "def data_science_concepts_generator():\n",
        "    yield \"Data Exploration\"\n",
        "    yield \"Machine Learning\"\n",
        "    yield \"Data Visualization\"\n",
        "    yield \"Statistics Basics\"\n",
        "\n",
        "# Usage\n",
        "for concept in data_science_concepts_generator():\n",
        "    print(f\"Understand: {concept}\")\n"
      ],
      "metadata": {
        "colab": {
          "base_uri": "https://localhost:8080/"
        },
        "id": "AEjKnJpR1E-H",
        "outputId": "ff704694-005e-45fb-d909-5be51b7f6fc9"
      },
      "execution_count": null,
      "outputs": [
        {
          "output_type": "stream",
          "name": "stdout",
          "text": [
            "Understand: Data Exploration\n",
            "Understand: Machine Learning\n",
            "Understand: Data Visualization\n",
            "Understand: Statistics Basics\n"
          ]
        }
      ]
    },
    {
      "cell_type": "markdown",
      "source": [
        "## Example4"
      ],
      "metadata": {
        "id": "26x-c0HQ3L_l"
      }
    },
    {
      "cell_type": "code",
      "source": [
        "def data_analytics_tools_generator():\n",
        "    yield \"Pandas\"\n",
        "    yield \"NumPy\"\n",
        "    yield \"Matplotlib\"\n",
        "    yield \"SQL\"\n",
        "\n",
        "# Usage\n",
        "for tool in data_analytics_tools_generator():\n",
        "    print(f\"Use: {tool}\")\n"
      ],
      "metadata": {
        "colab": {
          "base_uri": "https://localhost:8080/"
        },
        "id": "b4_v7cRU1kjO",
        "outputId": "16cfd57b-f8bd-4ef1-e6af-d2922ee88cfa"
      },
      "execution_count": null,
      "outputs": [
        {
          "output_type": "stream",
          "name": "stdout",
          "text": [
            "Use: Pandas\n",
            "Use: NumPy\n",
            "Use: Matplotlib\n",
            "Use: SQL\n"
          ]
        }
      ]
    },
    {
      "cell_type": "markdown",
      "source": [
        "## Example5"
      ],
      "metadata": {
        "id": "0rxGpiJ73NjG"
      }
    },
    {
      "cell_type": "code",
      "source": [
        "def fibonacci_generator():\n",
        "    a, b = 0, 1\n",
        "    while True:\n",
        "        yield a\n",
        "        a, b = b, a + b\n",
        "\n",
        "# Usage\n",
        "fib_gen = fibonacci_generator()\n",
        "for _ in range(10):\n",
        "    print(next(fib_gen))\n"
      ],
      "metadata": {
        "colab": {
          "base_uri": "https://localhost:8080/"
        },
        "id": "le2qE30h1w92",
        "outputId": "a6b53735-65bf-4075-db33-cf8d3fc29914"
      },
      "execution_count": null,
      "outputs": [
        {
          "output_type": "stream",
          "name": "stdout",
          "text": [
            "0\n",
            "1\n",
            "1\n",
            "2\n",
            "3\n",
            "5\n",
            "8\n",
            "13\n",
            "21\n",
            "34\n"
          ]
        }
      ]
    },
    {
      "cell_type": "markdown",
      "source": [
        "## Example6"
      ],
      "metadata": {
        "id": "Z5S91BFT3PIt"
      }
    },
    {
      "cell_type": "code",
      "source": [
        "def prime_numbers_generator():\n",
        "    primes = []\n",
        "    num = 2\n",
        "    while True:\n",
        "        is_prime = all(num % prime != 0 for prime in primes)\n",
        "        if is_prime:\n",
        "            yield num\n",
        "            primes.append(num)\n",
        "        num += 1\n",
        "\n",
        "# Usage\n",
        "prime_gen = prime_numbers_generator()\n",
        "for _ in range(10):\n",
        "    print(next(prime_gen))\n"
      ],
      "metadata": {
        "colab": {
          "base_uri": "https://localhost:8080/"
        },
        "id": "FMiYDQfi1_Ft",
        "outputId": "ee7085fc-86ca-4949-b0bb-d16f616761dd"
      },
      "execution_count": null,
      "outputs": [
        {
          "output_type": "stream",
          "name": "stdout",
          "text": [
            "2\n",
            "3\n",
            "5\n",
            "7\n",
            "11\n",
            "13\n",
            "17\n",
            "19\n",
            "23\n",
            "29\n"
          ]
        }
      ]
    },
    {
      "cell_type": "code",
      "source": [
        "def episode_stream():\n",
        "    yield \"Episode 1\"\n",
        "    yield \"Episode 2\"\n",
        "    yield \"Episode 3\"\n",
        "\n",
        "# Usage\n",
        "streaming = episode_stream()\n",
        "print(next(streaming))  # You get \"Episode 1\"\n",
        "print(next(streaming))  # You get \"Episode 2\"\n"
      ],
      "metadata": {
        "colab": {
          "base_uri": "https://localhost:8080/"
        },
        "id": "YQauYjo_2eiN",
        "outputId": "59d31b67-c03f-4de6-e2fd-33504e6b3e6a"
      },
      "execution_count": null,
      "outputs": [
        {
          "output_type": "stream",
          "name": "stdout",
          "text": [
            "Episode 1\n",
            "Episode 2\n"
          ]
        }
      ]
    },
    {
      "cell_type": "code",
      "source": [
        "def all_episodes():\n",
        "    return [\"Episode 1\", \"Episode 2\", \"Episode 3\"]\n",
        "\n",
        "# Usage\n",
        "all_episodes_list = all_episodes()\n",
        "print(all_episodes_list)  # You get [\"Episode 1\", \"Episode 2\", \"Episode 3\"]\n"
      ],
      "metadata": {
        "colab": {
          "base_uri": "https://localhost:8080/"
        },
        "id": "uDsi3OicIPmx",
        "outputId": "be674426-ba51-41db-b395-2bfc7a403658"
      },
      "execution_count": null,
      "outputs": [
        {
          "output_type": "stream",
          "name": "stdout",
          "text": [
            "['Episode 1', 'Episode 2', 'Episode 3']\n"
          ]
        }
      ]
    },
    {
      "cell_type": "code",
      "source": [],
      "metadata": {
        "id": "DW8Mie8lIttg"
      },
      "execution_count": null,
      "outputs": []
    }
  ]
}