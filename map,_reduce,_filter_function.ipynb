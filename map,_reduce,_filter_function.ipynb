{
  "nbformat": 4,
  "nbformat_minor": 0,
  "metadata": {
    "colab": {
      "provenance": []
    },
    "kernelspec": {
      "name": "python3",
      "display_name": "Python 3"
    },
    "language_info": {
      "name": "python"
    }
  },
  "cells": [
    {
      "cell_type": "markdown",
      "source": [
        "# `map()` function\n",
        "\n",
        "The `map()` function executes a specified function for each item in an `iterable`. The item is sent to the function as a parameter."
      ],
      "metadata": {
        "id": "sjhSxlcbSMFJ"
      }
    },
    {
      "cell_type": "code",
      "source": [
        "# get the docstring of the function using help()\n",
        "help(map)"
      ],
      "metadata": {
        "colab": {
          "base_uri": "https://localhost:8080/"
        },
        "id": "UaKg_yKuSNin",
        "outputId": "8ba14959-545d-4617-a961-5e8c16c6a655"
      },
      "execution_count": null,
      "outputs": [
        {
          "output_type": "stream",
          "name": "stdout",
          "text": [
            "Help on class map in module builtins:\n",
            "\n",
            "class map(object)\n",
            " |  map(func, *iterables) --> map object\n",
            " |  \n",
            " |  Make an iterator that computes the function using arguments from\n",
            " |  each of the iterables.  Stops when the shortest iterable is exhausted.\n",
            " |  \n",
            " |  Methods defined here:\n",
            " |  \n",
            " |  __getattribute__(self, name, /)\n",
            " |      Return getattr(self, name).\n",
            " |  \n",
            " |  __iter__(self, /)\n",
            " |      Implement iter(self).\n",
            " |  \n",
            " |  __next__(self, /)\n",
            " |      Implement next(self).\n",
            " |  \n",
            " |  __reduce__(...)\n",
            " |      Return state information for pickling.\n",
            " |  \n",
            " |  ----------------------------------------------------------------------\n",
            " |  Static methods defined here:\n",
            " |  \n",
            " |  __new__(*args, **kwargs) from builtins.type\n",
            " |      Create and return a new object.  See help(type) for accurate signature.\n",
            "\n"
          ]
        }
      ]
    },
    {
      "cell_type": "code",
      "source": [
        "def square(a):\n",
        "    return a**a"
      ],
      "metadata": {
        "id": "Y6joOVC4SS2Z"
      },
      "execution_count": null,
      "outputs": []
    },
    {
      "cell_type": "code",
      "source": [
        "sqr = map(square, [1,2,3,4])\n",
        "sqr"
      ],
      "metadata": {
        "colab": {
          "base_uri": "https://localhost:8080/"
        },
        "id": "fuHniQqySUu4",
        "outputId": "cb35fc7e-0f91-4c6e-c55c-7e0e32052203"
      },
      "execution_count": null,
      "outputs": [
        {
          "output_type": "execute_result",
          "data": {
            "text/plain": [
              "<map at 0x7d87823f4520>"
            ]
          },
          "metadata": {},
          "execution_count": 3
        }
      ]
    },
    {
      "cell_type": "code",
      "source": [
        "#convert the map into a list, for readability:\n",
        "print(list(sqr))"
      ],
      "metadata": {
        "colab": {
          "base_uri": "https://localhost:8080/"
        },
        "id": "RB6nJMteSVyA",
        "outputId": "23bf32f4-921e-477c-c4a7-a7b9e0da0cbe"
      },
      "execution_count": null,
      "outputs": [
        {
          "output_type": "stream",
          "name": "stdout",
          "text": [
            "[1, 4, 27, 256]\n"
          ]
        }
      ]
    },
    {
      "cell_type": "code",
      "source": [
        "def myfunc(a, b):\n",
        "     return a + b\n",
        "\n",
        "x = map(myfunc, ('apple', 'banana', 'cherry'), ('orange', 'lemon', 'pineapple'))"
      ],
      "metadata": {
        "id": "A9KbQZ0oSXIx"
      },
      "execution_count": null,
      "outputs": []
    },
    {
      "cell_type": "code",
      "source": [
        "print(list(x))"
      ],
      "metadata": {
        "colab": {
          "base_uri": "https://localhost:8080/"
        },
        "id": "eP80Pm80Sasn",
        "outputId": "c040f119-c017-4f5c-8e39-3328a26b2ce5"
      },
      "execution_count": null,
      "outputs": [
        {
          "output_type": "stream",
          "name": "stdout",
          "text": [
            "['appleorange', 'bananalemon', 'cherrypineapple']\n"
          ]
        }
      ]
    },
    {
      "cell_type": "markdown",
      "source": [
        "## Example1"
      ],
      "metadata": {
        "id": "K9iN4ksheFHs"
      }
    },
    {
      "cell_type": "code",
      "source": [
        "numbers = (1, 2, 3, 4)\n",
        "result = map(lambda x: x*x, numbers)\n",
        "print(result)\n",
        "\n",
        "# converting map object to set/list/tuple\n",
        "numbersSquare = tuple(result)\n",
        "print(numbersSquare)"
      ],
      "metadata": {
        "colab": {
          "base_uri": "https://localhost:8080/"
        },
        "id": "-5k4DNk7Scjv",
        "outputId": "68b9bc25-4182-4dee-8cdc-11f09a6aca32"
      },
      "execution_count": null,
      "outputs": [
        {
          "output_type": "stream",
          "name": "stdout",
          "text": [
            "<map object at 0x7d87823f4e50>\n",
            "(1, 4, 9, 16)\n"
          ]
        }
      ]
    },
    {
      "cell_type": "markdown",
      "source": [
        "## Example2"
      ],
      "metadata": {
        "id": "-EIQhRlteJFV"
      }
    },
    {
      "cell_type": "code",
      "source": [
        "num1 = [4, 5, 6]\n",
        "num2 = [5, 6, 7]\n",
        "\n",
        "result = map(lambda n1, n2: n1+n2, num1, num2)\n",
        "print(list(result))"
      ],
      "metadata": {
        "colab": {
          "base_uri": "https://localhost:8080/"
        },
        "id": "Qu-gdzOsSgWP",
        "outputId": "dc21d0a9-dcb4-4f49-c785-6859b101a568"
      },
      "execution_count": null,
      "outputs": [
        {
          "output_type": "stream",
          "name": "stdout",
          "text": [
            "[]\n"
          ]
        }
      ]
    },
    {
      "cell_type": "markdown",
      "source": [
        "## Example3"
      ],
      "metadata": {
        "id": "Fha8TTt_eKcb"
      }
    },
    {
      "cell_type": "code",
      "source": [
        "# Convert String Numbers to Integers\n",
        "\n",
        "numbers_as_strings = [\"1\", \"2\", \"3\", \"4\", \"5\"]\n",
        "numbers_as_integers = list(map(int, numbers_as_strings))\n",
        "print(numbers_as_integers)"
      ],
      "metadata": {
        "colab": {
          "base_uri": "https://localhost:8080/"
        },
        "id": "_GWeqRTVcl4q",
        "outputId": "2894e8e8-5c49-4a4f-fe89-a8d50ac2df63"
      },
      "execution_count": null,
      "outputs": [
        {
          "output_type": "stream",
          "name": "stdout",
          "text": [
            "[1, 2, 3, 4, 5]\n"
          ]
        }
      ]
    },
    {
      "cell_type": "markdown",
      "source": [
        "## Example4"
      ],
      "metadata": {
        "id": "a4DnTYWfePLu"
      }
    },
    {
      "cell_type": "code",
      "source": [
        "# Calculate Square of Each Number\n",
        "\n",
        "numbers = [1, 2, 3, 4, 5]\n",
        "squared_numbers = list(map(lambda x: x**2, numbers))\n",
        "print(squared_numbers)\n"
      ],
      "metadata": {
        "colab": {
          "base_uri": "https://localhost:8080/"
        },
        "id": "5L80oxOXcriO",
        "outputId": "afaf6fa9-f3b0-408d-fe90-b0b51db28199"
      },
      "execution_count": null,
      "outputs": [
        {
          "output_type": "stream",
          "name": "stdout",
          "text": [
            "[1, 4, 9, 16, 25]\n"
          ]
        }
      ]
    },
    {
      "cell_type": "markdown",
      "source": [
        "## Example5"
      ],
      "metadata": {
        "id": "CLgH0FH1eRDU"
      }
    },
    {
      "cell_type": "code",
      "source": [
        "# Capitalize First Letter of Each Word\n",
        "words = [\"python\", \"programming\", \"skills\"]\n",
        "capitalized_words = list(map(str.capitalize, words))\n",
        "print(capitalized_words)\n"
      ],
      "metadata": {
        "colab": {
          "base_uri": "https://localhost:8080/"
        },
        "id": "vP_vfFnOdM0_",
        "outputId": "f71dd92b-3f68-431a-f2ba-71abbac7c371"
      },
      "execution_count": null,
      "outputs": [
        {
          "output_type": "stream",
          "name": "stdout",
          "text": [
            "['Python', 'Programming', 'Skills']\n"
          ]
        }
      ]
    },
    {
      "cell_type": "markdown",
      "source": [
        "## Example6"
      ],
      "metadata": {
        "id": "YXXOQy7seTTO"
      }
    },
    {
      "cell_type": "code",
      "source": [
        "# Calculate GPA from Grades\n",
        "\n",
        "grades = [\"A\", \"B\", \"C\", \"A\", \"B\"]\n",
        "gpa = list(map(lambda grade: 4 if grade == \"A\" else (3 if grade == \"B\" else 2), grades))\n",
        "print(gpa)\n"
      ],
      "metadata": {
        "colab": {
          "base_uri": "https://localhost:8080/"
        },
        "id": "pv6HZqeFdUi0",
        "outputId": "ef462ecf-6bf2-40b3-b78e-a8005a95396e"
      },
      "execution_count": null,
      "outputs": [
        {
          "output_type": "stream",
          "name": "stdout",
          "text": [
            "[4, 3, 2, 4, 3]\n"
          ]
        }
      ]
    },
    {
      "cell_type": "markdown",
      "source": [
        "## Example7"
      ],
      "metadata": {
        "id": "DZZUxdVUeVC0"
      }
    },
    {
      "cell_type": "code",
      "source": [
        "# Combine First and Last Names\n",
        "\n",
        "first_names = [\"John\", \"Alice\", \"Bob\"]\n",
        "last_names = [\"Doe\", \"Smith\", \"Johnson\"]\n",
        "full_names = list(map(lambda first, last: f\"{first} {last}\", first_names, last_names))\n",
        "print(full_names)\n"
      ],
      "metadata": {
        "colab": {
          "base_uri": "https://localhost:8080/"
        },
        "id": "S2TPeJpYdnfn",
        "outputId": "32a5d877-5039-4008-cd4e-954d383a5940"
      },
      "execution_count": null,
      "outputs": [
        {
          "output_type": "stream",
          "name": "stdout",
          "text": [
            "['John Doe', 'Alice Smith', 'Bob Johnson']\n"
          ]
        }
      ]
    },
    {
      "cell_type": "code",
      "source": [
        "# Factory function: Function to double the value\n",
        "def double(value):\n",
        "    return value * 2\n",
        "\n",
        "# List of products: Numbers to be processed\n",
        "numbers = [1, 2, 3, 4, 5]\n",
        "\n",
        "# Conveyor belt operation: Using map() to apply the function to each number\n",
        "result_map_object = map(double, numbers)\n",
        "\n",
        "# Convert the map object to a list to see the results\n",
        "result_list = list(result_map_object)\n",
        "\n",
        "print(result_list)\n"
      ],
      "metadata": {
        "colab": {
          "base_uri": "https://localhost:8080/"
        },
        "id": "YdjLWfFhkes6",
        "outputId": "86c63d76-a30b-4871-bd9e-ac213f5a2875"
      },
      "execution_count": null,
      "outputs": [
        {
          "output_type": "stream",
          "name": "stdout",
          "text": [
            "[2, 4, 6, 8, 10]\n"
          ]
        }
      ]
    },
    {
      "cell_type": "markdown",
      "source": [
        "# `reduce()` function"
      ],
      "metadata": {
        "id": "UJg_GB9wSmmY"
      }
    },
    {
      "cell_type": "markdown",
      "source": [
        "Python’s `reduce()` implements a mathematical technique commonly known as `folding` or `reduction`.\n",
        "\n",
        "It's is a process where you reduce a list of items to a single values(cumulative value)"
      ],
      "metadata": {
        "id": "DLGN9HjgSqRQ"
      }
    },
    {
      "cell_type": "markdown",
      "source": [
        "1. Apply a function (or callable) to the first two items in an iterable and generate a partial result.\n",
        "\n",
        "2. Use that partial result, together with the third item in the iterable, to generate another partial result.\n",
        "\n",
        "3. Repeat the process until the iterable is exhausted and then return a single cumulative value."
      ],
      "metadata": {
        "id": "ZdnIe8meSspI"
      }
    },
    {
      "cell_type": "markdown",
      "source": [
        "## Example1"
      ],
      "metadata": {
        "id": "wfEt3YGd9Vua"
      }
    },
    {
      "cell_type": "code",
      "source": [
        "# import reduce form function tools\n",
        "from functools import reduce"
      ],
      "metadata": {
        "id": "2uVEC0W0SnBP"
      },
      "execution_count": null,
      "outputs": []
    },
    {
      "cell_type": "code",
      "source": [
        "# define a function taking two arguments\n",
        "def my_add(a, b):\n",
        "     result = a + b\n",
        "     print(f\"{a} + {b} = {result}\")\n",
        "     return result"
      ],
      "metadata": {
        "id": "snNY5oeRSvOg"
      },
      "execution_count": null,
      "outputs": []
    },
    {
      "cell_type": "code",
      "source": [
        "# reduce numbers by adding them\n",
        "numbers = [0, 1, 2, 3, 4]\n",
        "reduce(my_add, numbers)"
      ],
      "metadata": {
        "colab": {
          "base_uri": "https://localhost:8080/"
        },
        "id": "beq0JYOESw6H",
        "outputId": "cd946a5f-f9b7-49f1-c316-3e9e6d4d3ef2"
      },
      "execution_count": null,
      "outputs": [
        {
          "output_type": "stream",
          "name": "stdout",
          "text": [
            "0 + 1 = 1\n",
            "1 + 2 = 3\n",
            "3 + 3 = 6\n",
            "6 + 4 = 10\n"
          ]
        },
        {
          "output_type": "execute_result",
          "data": {
            "text/plain": [
              "10"
            ]
          },
          "metadata": {},
          "execution_count": 12
        }
      ]
    },
    {
      "cell_type": "code",
      "source": [
        "# here first argument is taken as 100(initializer) and second one is from the list\n",
        "reduce(my_add, numbers, 100)"
      ],
      "metadata": {
        "colab": {
          "base_uri": "https://localhost:8080/"
        },
        "id": "oAxAAbdCSyh4",
        "outputId": "daf03fa3-36c7-4c29-cf5e-921b39cedd34"
      },
      "execution_count": null,
      "outputs": [
        {
          "output_type": "stream",
          "name": "stdout",
          "text": [
            "100 + 0 = 100\n",
            "100 + 1 = 101\n",
            "101 + 2 = 103\n",
            "103 + 3 = 106\n",
            "106 + 4 = 110\n"
          ]
        },
        {
          "output_type": "execute_result",
          "data": {
            "text/plain": [
              "110"
            ]
          },
          "metadata": {},
          "execution_count": 13
        }
      ]
    },
    {
      "cell_type": "markdown",
      "source": [
        "## Example2"
      ],
      "metadata": {
        "id": "vSEKMKhp9aIl"
      }
    },
    {
      "cell_type": "code",
      "source": [
        "def my_prod(a, b):\n",
        "     return a * b\n",
        "\n",
        "my_prod(1, 2)"
      ],
      "metadata": {
        "colab": {
          "base_uri": "https://localhost:8080/"
        },
        "id": "u7VQNHTuSzuP",
        "outputId": "7b36f137-77c4-40fb-b278-dfd86f07921d"
      },
      "execution_count": null,
      "outputs": [
        {
          "output_type": "execute_result",
          "data": {
            "text/plain": [
              "2"
            ]
          },
          "metadata": {},
          "execution_count": 14
        }
      ]
    },
    {
      "cell_type": "code",
      "source": [
        "numbers = [1, 2, 3, 4]\n",
        "reduce(my_prod, numbers)"
      ],
      "metadata": {
        "colab": {
          "base_uri": "https://localhost:8080/"
        },
        "id": "ztfO5qjnS1bp",
        "outputId": "92b53c81-a3b4-46a9-f129-7ee143f9f941"
      },
      "execution_count": null,
      "outputs": [
        {
          "output_type": "execute_result",
          "data": {
            "text/plain": [
              "24"
            ]
          },
          "metadata": {},
          "execution_count": 15
        }
      ]
    },
    {
      "cell_type": "markdown",
      "source": [
        "## Example3"
      ],
      "metadata": {
        "id": "gEjTqHeG9epC"
      }
    },
    {
      "cell_type": "code",
      "source": [
        "# returns only the last value of the iteration\n",
        "numbers = [1, 2, 3, 4]\n",
        "reduce(lambda a, b: a * b, numbers)"
      ],
      "metadata": {
        "colab": {
          "base_uri": "https://localhost:8080/"
        },
        "id": "NG3RJzG_S22Q",
        "outputId": "41d78f31-88bb-45ce-ce3b-d0fc67b66922"
      },
      "execution_count": null,
      "outputs": [
        {
          "output_type": "execute_result",
          "data": {
            "text/plain": [
              "24"
            ]
          },
          "metadata": {},
          "execution_count": 16
        }
      ]
    },
    {
      "cell_type": "markdown",
      "source": [
        "## Example4"
      ],
      "metadata": {
        "id": "fi6vaXtx9hdD"
      }
    },
    {
      "cell_type": "code",
      "source": [
        "# Minimum\n",
        "def my_min_func(a, b):\n",
        "    return a if a < b else b\n",
        "\n",
        "# Maximum\n",
        "def my_max_func(a, b):\n",
        "    return a if a > b else b"
      ],
      "metadata": {
        "id": "qsnwGB5TS7kw"
      },
      "execution_count": null,
      "outputs": []
    },
    {
      "cell_type": "code",
      "source": [
        "numbers = [3, 5, 2, 4, 7, 1]\n",
        "reduce(my_min_func, numbers)"
      ],
      "metadata": {
        "colab": {
          "base_uri": "https://localhost:8080/"
        },
        "id": "RVpR24FcS9P3",
        "outputId": "e754c55f-fccb-4657-d52e-0dbfa13b43ce"
      },
      "execution_count": null,
      "outputs": [
        {
          "output_type": "execute_result",
          "data": {
            "text/plain": [
              "1"
            ]
          },
          "metadata": {},
          "execution_count": 18
        }
      ]
    },
    {
      "cell_type": "code",
      "source": [
        "reduce(my_max_func, numbers)"
      ],
      "metadata": {
        "colab": {
          "base_uri": "https://localhost:8080/"
        },
        "id": "VqA0m1ujS-m5",
        "outputId": "40c4ddc0-6230-4a0e-a208-9009bfc18b3f"
      },
      "execution_count": null,
      "outputs": [
        {
          "output_type": "execute_result",
          "data": {
            "text/plain": [
              "7"
            ]
          },
          "metadata": {},
          "execution_count": 19
        }
      ]
    },
    {
      "cell_type": "markdown",
      "source": [
        "## Example5"
      ],
      "metadata": {
        "id": "LoVWaq0h9lN7"
      }
    },
    {
      "cell_type": "code",
      "source": [
        "#Calculate Sum of Numbers\n",
        "\n",
        "from functools import reduce\n",
        "numbers = [1, 2, 3, 4, 5]\n",
        "total_sum = reduce(lambda x, y: x + y, numbers)\n",
        "print(total_sum)"
      ],
      "metadata": {
        "colab": {
          "base_uri": "https://localhost:8080/"
        },
        "id": "Nt-usk7_3vcY",
        "outputId": "30630633-9a50-4c38-df1c-7e1cf2de151b"
      },
      "execution_count": null,
      "outputs": [
        {
          "output_type": "stream",
          "name": "stdout",
          "text": [
            "15\n"
          ]
        }
      ]
    },
    {
      "cell_type": "markdown",
      "source": [
        "## Example6"
      ],
      "metadata": {
        "id": "lD0vHZr-9nT7"
      }
    },
    {
      "cell_type": "code",
      "source": [
        "#Multiply Elements of a List\n",
        "\n",
        "from functools import reduce\n",
        "numbers = [2, 3, 4, 5]\n",
        "product = reduce(lambda x, y: x * y, numbers)\n",
        "print(product)"
      ],
      "metadata": {
        "colab": {
          "base_uri": "https://localhost:8080/"
        },
        "id": "ly9zHW445b--",
        "outputId": "91d7ee55-6b18-489d-eb9c-ce358ce7bb77"
      },
      "execution_count": null,
      "outputs": [
        {
          "output_type": "stream",
          "name": "stdout",
          "text": [
            "120\n"
          ]
        }
      ]
    },
    {
      "cell_type": "markdown",
      "source": [
        "## Example7"
      ],
      "metadata": {
        "id": "5xCeki8g9ovi"
      }
    },
    {
      "cell_type": "code",
      "source": [
        "# Concatenate Strings\n",
        "\n",
        "from functools import reduce\n",
        "\n",
        "words = [\"Data\", \"Science\", \"Courses\"]\n",
        "concatenated_string = reduce(lambda x, y: x + \" \" + y, words)\n",
        "print(concatenated_string)"
      ],
      "metadata": {
        "colab": {
          "base_uri": "https://localhost:8080/"
        },
        "id": "ATyPkBRB5ow-",
        "outputId": "07b2ae18-a9a9-45f6-dac1-f239e5df07d8"
      },
      "execution_count": null,
      "outputs": [
        {
          "output_type": "stream",
          "name": "stdout",
          "text": [
            "Data Science Courses\n"
          ]
        }
      ]
    },
    {
      "cell_type": "markdown",
      "source": [
        "## Example8"
      ],
      "metadata": {
        "id": "DddQJ5d19qU8"
      }
    },
    {
      "cell_type": "code",
      "source": [
        "# Find Maximum Number in a List\n",
        "from functools import reduce\n",
        "\n",
        "numbers = [12, 7, 22, 15, 8]\n",
        "max_number = reduce(lambda x, y: x if x > y else y, numbers)\n",
        "print(max_number)"
      ],
      "metadata": {
        "colab": {
          "base_uri": "https://localhost:8080/"
        },
        "id": "MGGOy8xP6O9_",
        "outputId": "240e27f8-2eb3-495a-a80c-0ca19d691932"
      },
      "execution_count": null,
      "outputs": [
        {
          "output_type": "stream",
          "name": "stdout",
          "text": [
            "22\n"
          ]
        }
      ]
    },
    {
      "cell_type": "markdown",
      "source": [
        "## Example9"
      ],
      "metadata": {
        "id": "Lq4CrZqj9sZL"
      }
    },
    {
      "cell_type": "code",
      "source": [
        "#Calculate Factorial of a Number\n",
        "\n",
        "from functools import reduce\n",
        "\n",
        "def factorial(n):\n",
        "    return reduce(lambda x, y: x * y, range(1, n + 1))\n",
        "\n",
        "result = factorial(5)\n",
        "print(result)"
      ],
      "metadata": {
        "colab": {
          "base_uri": "https://localhost:8080/"
        },
        "id": "DOhUaZpw53YO",
        "outputId": "2471655c-392c-45fd-9afb-1184e22a09f9"
      },
      "execution_count": null,
      "outputs": [
        {
          "output_type": "stream",
          "name": "stdout",
          "text": [
            "120\n"
          ]
        }
      ]
    },
    {
      "cell_type": "markdown",
      "source": [
        "# `filter()` function"
      ],
      "metadata": {
        "id": "w0H0XIHLTGNq"
      }
    },
    {
      "cell_type": "code",
      "source": [
        "ages = [5, 12, 17, 18, 24, 32]\n",
        "\n",
        "def myFunc(x):\n",
        "  if x < 18:\n",
        "    return False\n",
        "  else:\n",
        "    return True\n"
      ],
      "metadata": {
        "id": "oZ05n9ISTALf"
      },
      "execution_count": null,
      "outputs": []
    },
    {
      "cell_type": "code",
      "source": [
        "# returns the value where the boolean value in function is True\n",
        "adults = filter(myFunc, ages)\n",
        "\n",
        "for x in adults:\n",
        "    print(x)"
      ],
      "metadata": {
        "colab": {
          "base_uri": "https://localhost:8080/"
        },
        "id": "6TIXwVZCTKRB",
        "outputId": "24b60f9f-f9a5-4b17-d754-792ab1b9e65d"
      },
      "execution_count": null,
      "outputs": [
        {
          "output_type": "stream",
          "name": "stdout",
          "text": [
            "18\n",
            "24\n",
            "32\n"
          ]
        }
      ]
    },
    {
      "cell_type": "code",
      "source": [
        "numbers = [1, 2, 3, 4, 5, 6, 7, 8, 9, 10]\n",
        "\n",
        "# returns True if number is even\n",
        "def check_even(number):\n",
        "    if number % 2 == 0:\n",
        "          return True\n",
        "\n",
        "    return False"
      ],
      "metadata": {
        "id": "8SOAd-bWTK63"
      },
      "execution_count": null,
      "outputs": []
    },
    {
      "cell_type": "code",
      "source": [
        "even_numbers_iterator = filter(check_even, numbers)\n",
        "\n",
        "# return the list value\n",
        "list(even_numbers_iterator)"
      ],
      "metadata": {
        "colab": {
          "base_uri": "https://localhost:8080/",
          "height": 175
        },
        "id": "v98ReJLLTQGP",
        "outputId": "5d0fd2cf-1987-47a2-ba74-54eada8eb04f"
      },
      "execution_count": null,
      "outputs": [
        {
          "output_type": "error",
          "ename": "NameError",
          "evalue": "ignored",
          "traceback": [
            "\u001b[0;31m---------------------------------------------------------------------------\u001b[0m",
            "\u001b[0;31mNameError\u001b[0m                                 Traceback (most recent call last)",
            "\u001b[0;32m<ipython-input-25-e950dc382690>\u001b[0m in \u001b[0;36m<cell line: 1>\u001b[0;34m()\u001b[0m\n\u001b[0;32m----> 1\u001b[0;31m \u001b[0mlist\u001b[0m\u001b[0;34m(\u001b[0m\u001b[0meven_numbers_iterator\u001b[0m\u001b[0;34m)\u001b[0m\u001b[0;34m\u001b[0m\u001b[0;34m\u001b[0m\u001b[0m\n\u001b[0m",
            "\u001b[0;31mNameError\u001b[0m: name 'even_numbers_iterator' is not defined"
          ]
        }
      ]
    },
    {
      "cell_type": "code",
      "source": [
        "letters = ['a', 'b', 'd', 'e', 'i', 'j', 'o', 'p', 'q', 'r']\n",
        "\n",
        "# a function that returns True if letter is vowel\n",
        "def filter_vowels(letter):\n",
        "    vowels = ['a', 'e', 'i', 'o', 'u']\n",
        "    return True if letter in vowels else False\n",
        "\n",
        "filtered_vowels = filter(filter_vowels, letters)\n",
        "\n",
        "# converting to tuple\n",
        "vowels = tuple(filtered_vowels)\n",
        "print(vowels)"
      ],
      "metadata": {
        "colab": {
          "base_uri": "https://localhost:8080/"
        },
        "id": "KTbLsq6WTcZK",
        "outputId": "6d457442-f62e-4e3d-863c-2b168535287b"
      },
      "execution_count": null,
      "outputs": [
        {
          "output_type": "stream",
          "name": "stdout",
          "text": [
            "('a', 'e', 'i', 'o')\n"
          ]
        }
      ]
    },
    {
      "cell_type": "code",
      "source": [],
      "metadata": {
        "id": "yQo7Wow8TdAG"
      },
      "execution_count": null,
      "outputs": []
    }
  ]
}